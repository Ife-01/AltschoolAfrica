{
  "nbformat": 4,
  "nbformat_minor": 0,
  "metadata": {
    "colab": {
      "provenance": []
    },
    "kernelspec": {
      "name": "python3",
      "display_name": "Python 3"
    },
    "language_info": {
      "name": "python"
    }
  },
  "cells": [
    {
      "cell_type": "markdown",
      "source": [
        "# ALTSCHOOL MID-SEMESTER ASSIGNMENT\n",
        "\n",
        "## Name: Olufotebi Ifeoluwa\n",
        "## School Id : ALT/SOD/024/1432"
      ],
      "metadata": {
        "id": "Q_kLPiZ3u8eK"
      }
    },
    {
      "cell_type": "markdown",
      "source": [
        "# Loading Packages and Dependecies"
      ],
      "metadata": {
        "id": "SohbfIsDupMD"
      }
    },
    {
      "cell_type": "code",
      "source": [
        "#Importing the excel file from the drive\n",
        "from google.colab import drive\n",
        "drive.mount('/content/drive')"
      ],
      "metadata": {
        "colab": {
          "base_uri": "https://localhost:8080/"
        },
        "id": "8Vi7bwL7aLo0",
        "outputId": "dfb8133b-455b-4f48-b474-7d3df3901a4a"
      },
      "execution_count": null,
      "outputs": [
        {
          "output_type": "stream",
          "name": "stdout",
          "text": [
            "Drive already mounted at /content/drive; to attempt to forcibly remount, call drive.mount(\"/content/drive\", force_remount=True).\n"
          ]
        }
      ]
    },
    {
      "cell_type": "code",
      "source": [
        "\n",
        "\n",
        "#Importing packages\n",
        "import pandas as pd\n",
        "import numpy as np\n",
        "import re\n"
      ],
      "metadata": {
        "id": "U7JOqJKvatXq"
      },
      "execution_count": null,
      "outputs": []
    },
    {
      "cell_type": "markdown",
      "source": [
        "# Energy data\n",
        "###2013 UN Indicators on Energy Supply and Renewable Electricity\n"
      ],
      "metadata": {
        "id": "-SfZHCp9t9qY"
      }
    },
    {
      "cell_type": "code",
      "source": [
        "#Loading data\n",
        "Energy = pd.read_excel('/content/drive/MyDrive/altsch_ass/Energy_Indicator.xls',\n",
        "                       header = 16, usecols=[2,3,4,5],\n",
        "                       names= ['Country', 'Energy Supply', 'Energy Supply per Capita', '% Renewable'],\n",
        "                       skiprows= 1, skipfooter= 38)\n"
      ],
      "metadata": {
        "id": "eyTW7KSKi3jM"
      },
      "execution_count": null,
      "outputs": []
    },
    {
      "cell_type": "code",
      "source": [
        "#Checking the data briefly\n",
        "print(Energy.head())\n",
        "print(Energy.tail())\n"
      ],
      "metadata": {
        "colab": {
          "base_uri": "https://localhost:8080/"
        },
        "id": "CexHW2W9cU0N",
        "outputId": "67006151-e91d-4a81-a889-2f45f78442eb"
      },
      "execution_count": null,
      "outputs": [
        {
          "output_type": "stream",
          "name": "stdout",
          "text": [
            "          Country Energy Supply Energy Supply per Capita  % Renewable\n",
            "0     Afghanistan           321                       10    78.669280\n",
            "1         Albania           102                       35   100.000000\n",
            "2         Algeria          1959                       51     0.551010\n",
            "3  American Samoa           ...                      ...     0.641026\n",
            "4         Andorra             9                      121    88.695650\n",
            "                       Country Energy Supply Energy Supply per Capita  \\\n",
            "222                   Viet Nam          2554                       28   \n",
            "223  Wallis and Futuna Islands             0                       26   \n",
            "224                      Yemen           344                       13   \n",
            "225                     Zambia           400                       26   \n",
            "226                   Zimbabwe           480                       32   \n",
            "\n",
            "     % Renewable  \n",
            "222     45.32152  \n",
            "223      0.00000  \n",
            "224      0.00000  \n",
            "225     99.71467  \n",
            "226     52.53612  \n"
          ]
        }
      ]
    },
    {
      "cell_type": "code",
      "source": [
        "#Replacing missing data (...) as np.NaN\n",
        "Energy = Energy.replace('...', np.NaN).infer_objects(copy=False)\n",
        "print(Energy.head())"
      ],
      "metadata": {
        "colab": {
          "base_uri": "https://localhost:8080/"
        },
        "id": "BV9HO3XzRbaE",
        "outputId": "73c99e56-36bc-48db-e645-028e67eb24f3"
      },
      "execution_count": null,
      "outputs": [
        {
          "output_type": "stream",
          "name": "stdout",
          "text": [
            "          Country  Energy Supply  Energy Supply per Capita  % Renewable\n",
            "0     Afghanistan          321.0                      10.0    78.669280\n",
            "1         Albania          102.0                      35.0   100.000000\n",
            "2         Algeria         1959.0                      51.0     0.551010\n",
            "3  American Samoa            NaN                       NaN     0.641026\n",
            "4         Andorra            9.0                     121.0    88.695650\n"
          ]
        },
        {
          "output_type": "stream",
          "name": "stderr",
          "text": [
            "<ipython-input-5-c1bda536909f>:2: FutureWarning: Downcasting behavior in `replace` is deprecated and will be removed in a future version. To retain the old behavior, explicitly call `result.infer_objects(copy=False)`. To opt-in to the future behavior, set `pd.set_option('future.no_silent_downcasting', True)`\n",
            "  Energy = Energy.replace('...', np.NaN).infer_objects(copy=False)\n"
          ]
        }
      ]
    },
    {
      "cell_type": "code",
      "source": [
        "#Converting Energy supply to gigajoules(1,000,000 gigajoules in a petajoule)\n",
        "Energy['Energy Supply'] = Energy['Energy Supply'] * 1000000\n",
        "print(Energy.head())"
      ],
      "metadata": {
        "colab": {
          "base_uri": "https://localhost:8080/"
        },
        "id": "HtKpMTCzHys7",
        "outputId": "184d96b6-4178-44b7-98c9-be5d2f806bf2"
      },
      "execution_count": null,
      "outputs": [
        {
          "output_type": "stream",
          "name": "stdout",
          "text": [
            "          Country  Energy Supply  Energy Supply per Capita  % Renewable\n",
            "0     Afghanistan   3.210000e+08                      10.0    78.669280\n",
            "1         Albania   1.020000e+08                      35.0   100.000000\n",
            "2         Algeria   1.959000e+09                      51.0     0.551010\n",
            "3  American Samoa            NaN                       NaN     0.641026\n",
            "4         Andorra   9.000000e+06                     121.0    88.695650\n"
          ]
        }
      ]
    },
    {
      "cell_type": "code",
      "source": [
        "#Removing digits and paranthesis within country name\n",
        "Energy['Country'] = Energy['Country'].str.replace(r'\\s*\\(.*?\\)', '', regex=True)  # Remove special characters\n",
        "Energy['Country'] = Energy['Country'].str.replace(r'\\d+', '', regex=True)         # Remove digits"
      ],
      "metadata": {
        "id": "ncPu9bq8TR4Q"
      },
      "execution_count": null,
      "outputs": []
    },
    {
      "cell_type": "code",
      "source": [
        "#Renaming certain countries\n",
        "name_change = {'United States of America': 'United States',\n",
        "               'United Kingdom of Great Britain and Northern Ireland': 'United Kingdom',\n",
        "               'China, Hong Kong Special Administrative Region':'Hong Kong',\n",
        "               'Bolivia (Plurinational State of)': 'Bolivia',\n",
        "               'Republic of Korea': 'South Korea'}\n",
        "\n",
        "Energy['Country'] = Energy['Country'].replace(name_change)\n",
        "\n",
        "\n",
        "\n",
        "#Checking if the replacement works\n",
        "print(Energy.tail(30))"
      ],
      "metadata": {
        "colab": {
          "base_uri": "https://localhost:8080/"
        },
        "id": "ev7ZpF7GLMDi",
        "outputId": "d08fe270-e5f8-44e2-b30c-7912dd2e91d4"
      },
      "execution_count": null,
      "outputs": [
        {
          "output_type": "stream",
          "name": "stdout",
          "text": [
            "                                       Country  Energy Supply  \\\n",
            "197                                Switzerland   1.113000e+09   \n",
            "198                       Syrian Arab Republic   5.420000e+08   \n",
            "199                                 Tajikistan   1.060000e+08   \n",
            "200                                   Thailand   5.336000e+09   \n",
            "201  The former Yugoslav Republic of Macedonia   1.170000e+08   \n",
            "202                                Timor-Leste   7.000000e+06   \n",
            "203                                       Togo   1.340000e+08   \n",
            "204                                      Tonga   3.000000e+06   \n",
            "205                        Trinidad and Tobago   8.240000e+08   \n",
            "206                                    Tunisia   4.300000e+08   \n",
            "207                                     Turkey   4.897000e+09   \n",
            "208                               Turkmenistan   1.102000e+09   \n",
            "209                   Turks and Caicos Islands   3.000000e+06   \n",
            "210                                     Tuvalu            NaN   \n",
            "211                                     Uganda   4.520000e+08   \n",
            "212                                    Ukraine   4.844000e+09   \n",
            "213                       United Arab Emirates   2.710000e+09   \n",
            "214                             United Kingdom   7.920000e+09   \n",
            "215                United Republic of Tanzania   9.940000e+08   \n",
            "216                              United States   9.083800e+10   \n",
            "217               United States Virgin Islands            NaN   \n",
            "218                                    Uruguay   1.960000e+08   \n",
            "219                                 Uzbekistan   1.798000e+09   \n",
            "220                                    Vanuatu   3.000000e+06   \n",
            "221                                  Venezuela   2.871000e+09   \n",
            "222                                   Viet Nam   2.554000e+09   \n",
            "223                  Wallis and Futuna Islands   0.000000e+00   \n",
            "224                                      Yemen   3.440000e+08   \n",
            "225                                     Zambia   4.000000e+08   \n",
            "226                                   Zimbabwe   4.800000e+08   \n",
            "\n",
            "     Energy Supply per Capita  % Renewable  \n",
            "197                     136.0    57.745480  \n",
            "198                      28.0    11.568270  \n",
            "199                      13.0    99.742920  \n",
            "200                      79.0     4.305189  \n",
            "201                      56.0    26.140470  \n",
            "202                       6.0     0.000000  \n",
            "203                      19.0    80.180180  \n",
            "204                      28.0     0.000000  \n",
            "205                     611.0     0.000000  \n",
            "206                      39.0     3.492547  \n",
            "207                      64.0    28.536690  \n",
            "208                     210.0     0.000000  \n",
            "209                      85.0     0.000000  \n",
            "210                       NaN     0.000000  \n",
            "211                      12.0    68.018180  \n",
            "212                     107.0     8.067312  \n",
            "213                     300.0     0.000000  \n",
            "214                     124.0    10.600470  \n",
            "215                      20.0    31.072840  \n",
            "216                     286.0    11.570980  \n",
            "217                       NaN     0.000000  \n",
            "218                      58.0    71.605040  \n",
            "219                      62.0    21.328410  \n",
            "220                      10.0    14.705880  \n",
            "221                      95.0    67.834520  \n",
            "222                      28.0    45.321520  \n",
            "223                      26.0     0.000000  \n",
            "224                      13.0     0.000000  \n",
            "225                      26.0    99.714670  \n",
            "226                      32.0    52.536120  \n"
          ]
        }
      ]
    },
    {
      "cell_type": "code",
      "source": [
        "#Cross checking again to see if the names have been correctly replaced\n",
        "print(Energy['Country'].unique())"
      ],
      "metadata": {
        "colab": {
          "base_uri": "https://localhost:8080/"
        },
        "id": "yauAqAmc_NvZ",
        "outputId": "786267bf-f8d0-4524-c55e-e492e77187ee"
      },
      "execution_count": null,
      "outputs": [
        {
          "output_type": "stream",
          "name": "stdout",
          "text": [
            "['Afghanistan' 'Albania' 'Algeria' 'American Samoa' 'Andorra' 'Angola'\n",
            " 'Anguilla' 'Antigua and Barbuda' 'Argentina' 'Armenia' 'Aruba'\n",
            " 'Australia' 'Austria' 'Azerbaijan' 'Bahamas' 'Bahrain' 'Bangladesh'\n",
            " 'Barbados' 'Belarus' 'Belgium' 'Belize' 'Benin' 'Bermuda' 'Bhutan'\n",
            " 'Bolivia' 'Bonaire, Sint Eustatius and Saba' 'Bosnia and Herzegovina'\n",
            " 'Botswana' 'Brazil' 'British Virgin Islands' 'Brunei Darussalam'\n",
            " 'Bulgaria' 'Burkina Faso' 'Burundi' 'Cabo Verde' 'Cambodia' 'Cameroon'\n",
            " 'Canada' 'Cayman Islands' 'Central African Republic' 'Chad' 'Chile'\n",
            " 'China' 'Hong Kong' 'China, Macao Special Administrative Region'\n",
            " 'Colombia' 'Comoros' 'Congo' 'Cook Islands' 'Costa Rica' \"Côte d'Ivoire\"\n",
            " 'Croatia' 'Cuba' 'Curaçao' 'Cyprus' 'Czech Republic'\n",
            " \"Democratic People's Republic of Korea\"\n",
            " 'Democratic Republic of the Congo' 'Denmark' 'Djibouti' 'Dominica'\n",
            " 'Dominican Republic' 'Ecuador' 'Egypt' 'El Salvador' 'Equatorial Guinea'\n",
            " 'Eritrea' 'Estonia' 'Ethiopia' 'Faeroe Islands' 'Falkland Islands' 'Fiji'\n",
            " 'Finland' 'France' 'French Guiana' 'French Polynesia' 'Gabon' 'Gambia'\n",
            " 'Georgia' 'Germany' 'Ghana' 'Gibraltar' 'Greece' 'Greenland' 'Grenada'\n",
            " 'Guadeloupe' 'Guam' 'Guatemala' 'Guernsey' 'Guinea' 'Guinea-Bissau'\n",
            " 'Guyana' 'Haiti' 'Honduras' 'Hungary' 'Iceland' 'India' 'Indonesia'\n",
            " 'Iran' 'Iraq' 'Ireland' 'Isle of Man' 'Israel' 'Italy' 'Jamaica' 'Japan'\n",
            " 'Jersey' 'Jordan' 'Kazakhstan' 'Kenya' 'Kiribati' 'Kuwait' 'Kyrgyzstan'\n",
            " \"Lao People's Democratic Republic\" 'Latvia' 'Lebanon' 'Lesotho' 'Liberia'\n",
            " 'Libya' 'Liechtenstein' 'Lithuania' 'Luxembourg' 'Madagascar' 'Malawi'\n",
            " 'Malaysia' 'Maldives' 'Mali' 'Malta' 'Marshall Islands' 'Martinique'\n",
            " 'Mauritania' 'Mauritius' 'Mexico' 'Micronesia' 'Mongolia' 'Montenegro'\n",
            " 'Montserrat' 'Morocco' 'Mozambique' 'Myanmar' 'Namibia' 'Nauru' 'Nepal'\n",
            " 'Netherlands' 'New Caledonia' 'New Zealand' 'Nicaragua' 'Niger' 'Nigeria'\n",
            " 'Niue' 'Northern Mariana Islands' 'Norway' 'Oman' 'Pakistan' 'Palau'\n",
            " 'Panama' 'Papua New Guinea' 'Paraguay' 'Peru' 'Philippines' 'Poland'\n",
            " 'Portugal' 'Puerto Rico' 'Qatar' 'South Korea' 'Republic of Moldova'\n",
            " 'Réunion' 'Romania' 'Russian Federation' 'Rwanda' 'Saint Helena'\n",
            " 'Saint Kitts and Nevis' 'Saint Lucia' 'Saint Pierre and Miquelon'\n",
            " 'Saint Vincent and the Grenadines' 'Samoa' 'Sao Tome and Principe'\n",
            " 'Saudi Arabia' 'Senegal' 'Serbia' 'Seychelles' 'Sierra Leone' 'Singapore'\n",
            " 'Sint Maarten' 'Slovakia' 'Slovenia' 'Solomon Islands' 'Somalia'\n",
            " 'South Africa' 'South Sudan' 'Spain' 'Sri Lanka' 'State of Palestine'\n",
            " 'Sudan' 'Suriname' 'Swaziland' 'Sweden' 'Switzerland'\n",
            " 'Syrian Arab Republic' 'Tajikistan' 'Thailand'\n",
            " 'The former Yugoslav Republic of Macedonia' 'Timor-Leste' 'Togo' 'Tonga'\n",
            " 'Trinidad and Tobago' 'Tunisia' 'Turkey' 'Turkmenistan'\n",
            " 'Turks and Caicos Islands' 'Tuvalu' 'Uganda' 'Ukraine'\n",
            " 'United Arab Emirates' 'United Kingdom' 'United Republic of Tanzania'\n",
            " 'United States' 'United States Virgin Islands' 'Uruguay' 'Uzbekistan'\n",
            " 'Vanuatu' 'Venezuela' 'Viet Nam' 'Wallis and Futuna Islands' 'Yemen'\n",
            " 'Zambia' 'Zimbabwe']\n"
          ]
        }
      ]
    },
    {
      "cell_type": "markdown",
      "source": [
        "# GDP AND JOURNAL DATA\n",
        "\n",
        "###GDP data contains countries GDP from 1960 to 2015 from World Bank\n",
        "###Journal data contains data  which ranks countries based on their journal contributions in the area of  Energy Engineering and Power Technology"
      ],
      "metadata": {
        "id": "FwtZVx8oYy2a"
      }
    },
    {
      "cell_type": "code",
      "source": [
        "#Loading in the GDP data\n",
        "GDP = pd.read_csv('/content/drive/MyDrive/altsch_ass/world_bank.csv', skiprows= 4)\n",
        "print(GDP.head())"
      ],
      "metadata": {
        "colab": {
          "base_uri": "https://localhost:8080/"
        },
        "id": "lqxC98RZZh-z",
        "outputId": "18ca653f-327c-49e6-ae74-cccdd7555bc3"
      },
      "execution_count": null,
      "outputs": [
        {
          "output_type": "stream",
          "name": "stdout",
          "text": [
            "  Country Name Country Code                            Indicator Name  \\\n",
            "0        Aruba          ABW  GDP at market prices (constant 2010 US$)   \n",
            "1      Andorra          AND  GDP at market prices (constant 2010 US$)   \n",
            "2  Afghanistan          AFG  GDP at market prices (constant 2010 US$)   \n",
            "3       Angola          AGO  GDP at market prices (constant 2010 US$)   \n",
            "4      Albania          ALB  GDP at market prices (constant 2010 US$)   \n",
            "\n",
            "   Indicator Code  1960  1961  1962  1963  1964  1965  ...          2006  \\\n",
            "0  NY.GDP.MKTP.KD   NaN   NaN   NaN   NaN   NaN   NaN  ...           NaN   \n",
            "1  NY.GDP.MKTP.KD   NaN   NaN   NaN   NaN   NaN   NaN  ...  4.018196e+09   \n",
            "2  NY.GDP.MKTP.KD   NaN   NaN   NaN   NaN   NaN   NaN  ...  1.030523e+10   \n",
            "3  NY.GDP.MKTP.KD   NaN   NaN   NaN   NaN   NaN   NaN  ...  5.581103e+10   \n",
            "4  NY.GDP.MKTP.KD   NaN   NaN   NaN   NaN   NaN   NaN  ...  9.771760e+09   \n",
            "\n",
            "           2007          2008          2009          2010          2011  \\\n",
            "0           NaN           NaN           NaN  2.467704e+09           NaN   \n",
            "1  4.021331e+09  3.675728e+09  3.535389e+09  3.346317e+09  3.185605e+09   \n",
            "2  1.172119e+10  1.214448e+10  1.469733e+10  1.593680e+10  1.691113e+10   \n",
            "3  6.842044e+10  7.787420e+10  7.975320e+10  8.247091e+10  8.570262e+10   \n",
            "4  1.034829e+10  1.112752e+10  1.150029e+10  1.192695e+10  1.223109e+10   \n",
            "\n",
            "           2012          2013          2014          2015  \n",
            "0           NaN           NaN           NaN           NaN  \n",
            "1  3.129538e+09  3.127550e+09           NaN           NaN  \n",
            "2  1.935220e+10  1.973134e+10  1.999032e+10  2.029415e+10  \n",
            "3  9.012096e+10  9.626143e+10  1.008863e+11  1.039106e+11  \n",
            "4  1.240477e+10  1.254247e+10  1.279331e+10  1.312082e+10  \n",
            "\n",
            "[5 rows x 60 columns]\n"
          ]
        }
      ]
    },
    {
      "cell_type": "code",
      "source": [
        "#Rename certain countries in GDP data\n",
        "gdp_name_change = {'Korea, Rep.': 'South Korea',\n",
        "                   'Iran, Islamic Rep.': 'Iran',\n",
        "                   'Hong Kong SAR, China': 'Hong Kong'}\n",
        "\n",
        "GDP['Country Name'] = GDP['Country Name'].replace(gdp_name_change)\n",
        "print(GDP.tail(10))"
      ],
      "metadata": {
        "colab": {
          "base_uri": "https://localhost:8080/"
        },
        "id": "B5UEm-k3cP5R",
        "outputId": "676d2c3f-e728-4cce-892d-230e5dabc088"
      },
      "execution_count": null,
      "outputs": [
        {
          "output_type": "stream",
          "name": "stdout",
          "text": [
            "           Country Name Country Code  \\\n",
            "254             Vietnam          VNM   \n",
            "255             Vanuatu          VUT   \n",
            "256  West Bank and Gaza          PSE   \n",
            "257               World          WLD   \n",
            "258               Samoa          WSM   \n",
            "259         Yemen, Rep.          YEM   \n",
            "260        South Africa          ZAF   \n",
            "261    Congo, Dem. Rep.          COD   \n",
            "262              Zambia          ZMB   \n",
            "263            Zimbabwe          ZWE   \n",
            "\n",
            "                               Indicator Name  Indicator Code          1960  \\\n",
            "254  GDP at market prices (constant 2010 US$)  NY.GDP.MKTP.KD           NaN   \n",
            "255  GDP at market prices (constant 2010 US$)  NY.GDP.MKTP.KD           NaN   \n",
            "256  GDP at market prices (constant 2010 US$)  NY.GDP.MKTP.KD           NaN   \n",
            "257  GDP at market prices (constant 2010 US$)  NY.GDP.MKTP.KD  1.118678e+13   \n",
            "258  GDP at market prices (constant 2010 US$)  NY.GDP.MKTP.KD           NaN   \n",
            "259  GDP at market prices (constant 2010 US$)  NY.GDP.MKTP.KD           NaN   \n",
            "260  GDP at market prices (constant 2010 US$)  NY.GDP.MKTP.KD  7.707081e+10   \n",
            "261  GDP at market prices (constant 2010 US$)  NY.GDP.MKTP.KD  1.508024e+10   \n",
            "262  GDP at market prices (constant 2010 US$)  NY.GDP.MKTP.KD  4.592975e+09   \n",
            "263  GDP at market prices (constant 2010 US$)  NY.GDP.MKTP.KD  3.338344e+09   \n",
            "\n",
            "             1961          1962          1963          1964          1965  \\\n",
            "254           NaN           NaN           NaN           NaN           NaN   \n",
            "255           NaN           NaN           NaN           NaN           NaN   \n",
            "256           NaN           NaN           NaN           NaN           NaN   \n",
            "257  1.166806e+13  1.231357e+13  1.295118e+13  1.381212e+13  1.458038e+13   \n",
            "258           NaN           NaN           NaN           NaN           NaN   \n",
            "259           NaN           NaN           NaN           NaN           NaN   \n",
            "260  8.003449e+10  8.497844e+10  9.124438e+10  9.848904e+10  1.072507e+11   \n",
            "261  1.344383e+10  1.629401e+10  1.714358e+10  1.672524e+10  1.689205e+10   \n",
            "262  4.655503e+09  4.539542e+09  4.688093e+09  5.260699e+09  6.136472e+09   \n",
            "263  3.549199e+09  3.600111e+09  3.824915e+09  3.782605e+09  3.968352e+09   \n",
            "\n",
            "     ...          2006          2007          2008          2009  \\\n",
            "254  ...  9.130761e+10  9.781739e+10  1.033556e+11  1.089346e+11   \n",
            "255  ...  5.961693e+08  6.270251e+08  6.674589e+08  6.895706e+08   \n",
            "256  ...  8.016675e+09  7.878227e+09  7.201473e+09  8.709518e+09   \n",
            "257  ...  6.023536e+13  6.282865e+13  6.398692e+13  6.291271e+13   \n",
            "258  ...  6.393881e+08  6.798143e+08  6.866743e+08  6.536571e+08   \n",
            "259  ...  2.672565e+10  2.761787e+10  2.872656e+10  2.991436e+10   \n",
            "260  ...  3.402852e+11  3.585261e+11  3.699668e+11  3.642764e+11   \n",
            "261  ...  1.650894e+10  1.754232e+10  1.863448e+10  1.916651e+10   \n",
            "262  ...  1.440569e+10  1.560892e+10  1.682234e+10  1.837342e+10   \n",
            "263  ...  1.006276e+10  9.695130e+09  7.982103e+09  8.459783e+09   \n",
            "\n",
            "             2010          2011          2012          2013          2014  \\\n",
            "254  1.159317e+11  1.231662e+11  1.296292e+11  1.366576e+11  1.448347e+11   \n",
            "255  7.008043e+08  7.093767e+08  7.218245e+08  7.360383e+08  7.529991e+08   \n",
            "256  8.913100e+09  9.611505e+09  1.100864e+10  1.053747e+10  1.042246e+10   \n",
            "257  6.564782e+13  6.770244e+13  6.937886e+13  7.104232e+13  7.291072e+13   \n",
            "258  6.567891e+08  6.947420e+08  6.975356e+08  6.840462e+08  6.922284e+08   \n",
            "259  3.090675e+10  2.624342e+10  2.689160e+10  2.800914e+10           NaN   \n",
            "260  3.753494e+11  3.874074e+11  3.960071e+11  4.047682e+11  4.110369e+11   \n",
            "261  2.052329e+10  2.193213e+10  2.350200e+10  2.550050e+10  2.778776e+10   \n",
            "262  2.026555e+10  2.140358e+10  2.302438e+10  2.420595e+10  2.542227e+10   \n",
            "263  9.422161e+09  1.054391e+10  1.165789e+10  1.218064e+10  1.264939e+10   \n",
            "\n",
            "             2015  \n",
            "254  1.545086e+11  \n",
            "255           NaN  \n",
            "256  1.171414e+10  \n",
            "257  7.470901e+13  \n",
            "258  7.035448e+08  \n",
            "259           NaN  \n",
            "260  4.163117e+11  \n",
            "261  2.970961e+10  \n",
            "262  2.624127e+10  \n",
            "263  1.278517e+10  \n",
            "\n",
            "[10 rows x 60 columns]\n"
          ]
        }
      ]
    },
    {
      "cell_type": "code",
      "source": [
        "#Checking if the name change works\n",
        "print(GDP['Country Name'].unique())"
      ],
      "metadata": {
        "colab": {
          "base_uri": "https://localhost:8080/"
        },
        "id": "ssWgm_sYCFMe",
        "outputId": "87e132a8-730a-468d-f793-de89a07f85dc"
      },
      "execution_count": null,
      "outputs": [
        {
          "output_type": "stream",
          "name": "stdout",
          "text": [
            "['Aruba' 'Andorra' 'Afghanistan' 'Angola' 'Albania' 'Arab World'\n",
            " 'United Arab Emirates' 'Argentina' 'Armenia' 'American Samoa'\n",
            " 'Antigua and Barbuda' 'Australia' 'Austria' 'Azerbaijan' 'Burundi'\n",
            " 'Belgium' 'Benin' 'Burkina Faso' 'Bangladesh' 'Bulgaria' 'Bahrain'\n",
            " 'Bahamas, The' 'Bosnia and Herzegovina' 'Belarus' 'Belize' 'Bermuda'\n",
            " 'Bolivia' 'Brazil' 'Barbados' 'Brunei Darussalam' 'Bhutan' 'Botswana'\n",
            " 'Central African Republic' 'Canada' 'Central Europe and the Baltics'\n",
            " 'Switzerland' 'Channel Islands' 'Chile' 'China' \"Cote d'Ivoire\"\n",
            " 'Cameroon' 'Congo, Rep.' 'Colombia' 'Comoros' 'Cabo Verde' 'Costa Rica'\n",
            " 'Caribbean small states' 'Cuba' 'Curacao' 'Cayman Islands' 'Cyprus'\n",
            " 'Czech Republic' 'Germany' 'Djibouti' 'Dominica' 'Denmark'\n",
            " 'Dominican Republic' 'Algeria'\n",
            " 'East Asia & Pacific (excluding high income)'\n",
            " 'Early-demographic dividend' 'East Asia & Pacific'\n",
            " 'Europe & Central Asia (excluding high income)' 'Europe & Central Asia'\n",
            " 'Ecuador' 'Egypt, Arab Rep.' 'Euro area' 'Eritrea' 'Spain' 'Estonia'\n",
            " 'Ethiopia' 'European Union' 'Fragile and conflict affected situations'\n",
            " 'Finland' 'Fiji' 'France' 'Faroe Islands' 'Micronesia, Fed. Sts.' 'Gabon'\n",
            " 'United Kingdom' 'Georgia' 'Ghana' 'Gibraltar' 'Guinea' 'Gambia, The'\n",
            " 'Guinea-Bissau' 'Equatorial Guinea' 'Greece' 'Grenada' 'Greenland'\n",
            " 'Guatemala' 'Guam' 'Guyana' 'High income' 'Hong Kong' 'Honduras'\n",
            " 'Heavily indebted poor countries (HIPC)' 'Croatia' 'Haiti' 'Hungary'\n",
            " 'IBRD only' 'IDA & IBRD total' 'IDA total' 'IDA blend' 'Indonesia'\n",
            " 'IDA only' 'Isle of Man' 'India' 'Not classified' 'Ireland' 'Iran' 'Iraq'\n",
            " 'Iceland' 'Israel' 'Italy' 'Jamaica' 'Jordan' 'Japan' 'Kazakhstan'\n",
            " 'Kenya' 'Kyrgyz Republic' 'Cambodia' 'Kiribati' 'St. Kitts and Nevis'\n",
            " 'South Korea' 'Kosovo' 'Kuwait'\n",
            " 'Latin America & Caribbean (excluding high income)' 'Lao PDR' 'Lebanon'\n",
            " 'Liberia' 'Libya' 'St. Lucia' 'Latin America & Caribbean'\n",
            " 'Least developed countries: UN classification' 'Low income'\n",
            " 'Liechtenstein' 'Sri Lanka' 'Lower middle income' 'Low & middle income'\n",
            " 'Lesotho' 'Late-demographic dividend' 'Lithuania' 'Luxembourg' 'Latvia'\n",
            " 'Macao SAR, China' 'St. Martin (French part)' 'Morocco' 'Monaco'\n",
            " 'Moldova' 'Madagascar' 'Maldives' 'Middle East & North Africa' 'Mexico'\n",
            " 'Marshall Islands' 'Middle income' 'Macedonia, FYR' 'Mali' 'Malta'\n",
            " 'Myanmar' 'Middle East & North Africa (excluding high income)'\n",
            " 'Montenegro' 'Mongolia' 'Northern Mariana Islands' 'Mozambique'\n",
            " 'Mauritania' 'Mauritius' 'Malawi' 'Malaysia' 'North America' 'Namibia'\n",
            " 'New Caledonia' 'Niger' 'Nigeria' 'Nicaragua' 'Netherlands' 'Norway'\n",
            " 'Nepal' 'Nauru' 'New Zealand' 'OECD members' 'Oman' 'Other small states'\n",
            " 'Pakistan' 'Panama' 'Peru' 'Philippines' 'Palau' 'Papua New Guinea'\n",
            " 'Poland' 'Pre-demographic dividend' 'Puerto Rico'\n",
            " 'Korea, Dem. People’s Rep.' 'Portugal' 'Paraguay'\n",
            " 'Pacific island small states' 'Post-demographic dividend'\n",
            " 'French Polynesia' 'Qatar' 'Romania' 'Russian Federation' 'Rwanda'\n",
            " 'South Asia' 'Saudi Arabia' 'Sudan' 'Senegal' 'Singapore'\n",
            " 'Solomon Islands' 'Sierra Leone' 'El Salvador' 'San Marino' 'Somalia'\n",
            " 'Serbia' 'Sub-Saharan Africa (excluding high income)' 'South Sudan'\n",
            " 'Sub-Saharan Africa' 'Small states' 'Sao Tome and Principe' 'Suriname'\n",
            " 'Slovak Republic' 'Slovenia' 'Sweden' 'Swaziland'\n",
            " 'Sint Maarten (Dutch part)' 'Seychelles' 'Syrian Arab Republic'\n",
            " 'Turks and Caicos Islands' 'Chad'\n",
            " 'East Asia & Pacific (IDA & IBRD countries)'\n",
            " 'Europe & Central Asia (IDA & IBRD countries)' 'Togo' 'Thailand'\n",
            " 'Tajikistan' 'Turkmenistan'\n",
            " 'Latin America & the Caribbean (IDA & IBRD countries)'\n",
            " 'Middle East & North Africa (IDA & IBRD countries)' 'Timor-Leste' 'Tonga'\n",
            " 'South Asia (IDA & IBRD)' 'Sub-Saharan Africa (IDA & IBRD countries)'\n",
            " 'Trinidad and Tobago' 'Tunisia' 'Turkey' 'Tuvalu' 'Tanzania' 'Uganda'\n",
            " 'Ukraine' 'Upper middle income' 'Uruguay' 'United States' 'Uzbekistan'\n",
            " 'St. Vincent and the Grenadines' 'Venezuela, RB' 'British Virgin Islands'\n",
            " 'Virgin Islands (U.S.)' 'Vietnam' 'Vanuatu' 'West Bank and Gaza' 'World'\n",
            " 'Samoa' 'Yemen, Rep.' 'South Africa' 'Congo, Dem. Rep.' 'Zambia'\n",
            " 'Zimbabwe']\n"
          ]
        }
      ]
    },
    {
      "cell_type": "code",
      "source": [
        "#Just briefly checking if the name change has been done, since none of the countries can easily been seen from head/tail glance\n",
        "\n",
        "for name in GDP['Country Name']:\n",
        "  if name == 'South Korea':\n",
        "    print(name)\n"
      ],
      "metadata": {
        "colab": {
          "base_uri": "https://localhost:8080/"
        },
        "id": "qsdCyHD-dsr_",
        "outputId": "333715d7-3ff5-440c-c37a-133392308fc5"
      },
      "execution_count": null,
      "outputs": [
        {
          "output_type": "stream",
          "name": "stdout",
          "text": [
            "South Korea\n"
          ]
        }
      ]
    },
    {
      "cell_type": "code",
      "source": [
        "#Loading in journal data\n",
        "ScimEn = pd.read_excel('/content/drive/MyDrive/altsch_ass/scimagojr.xlsx')\n",
        "print(ScimEn.head())"
      ],
      "metadata": {
        "colab": {
          "base_uri": "https://localhost:8080/"
        },
        "id": "kG-OkPmSfz5P",
        "outputId": "86c468ab-a1fd-4256-c9d7-3b60ba2c62ff"
      },
      "execution_count": null,
      "outputs": [
        {
          "output_type": "stream",
          "name": "stdout",
          "text": [
            "   Rank             Country  Documents  Citable documents  Citations  \\\n",
            "0     1               China     127050             126767     597237   \n",
            "1     2       United States      96661              94747     792274   \n",
            "2     3               Japan      30504              30287     223024   \n",
            "3     4      United Kingdom      20944              20357     206091   \n",
            "4     5  Russian Federation      18534              18301      34266   \n",
            "\n",
            "   Self-citations  Citations per document  H index  \n",
            "0          411683                    4.70      138  \n",
            "1          265436                    8.20      230  \n",
            "2           61554                    7.31      134  \n",
            "3           37874                    9.84      139  \n",
            "4           12422                    1.85       57  \n"
          ]
        }
      ]
    },
    {
      "cell_type": "markdown",
      "source": [
        "# Merged Data"
      ],
      "metadata": {
        "id": "rMECM6avh78T"
      }
    },
    {
      "cell_type": "code",
      "source": [
        "def merge_data():\n",
        "\n",
        "# Get top 15 countries by rank from Scimago data\n",
        "  top15 = ScimEn[ScimEn['Rank'] <= 15].copy()\n",
        "\n",
        "#Getting GDP data within the year 2006 - 2015\n",
        "  gdp_years = GDP[['Country Name'] + [str (year) for year in range(2006, 2016)]].copy()\n",
        "  gdp_years.rename(columns={'Country Name': 'Country'}, inplace=True) # Renaming country colname to standardize across the diff excel sheets\n",
        "\n",
        "#Merging Journal data with Energy data\n",
        "  merge1 = pd.merge(top15, Energy, how='inner', left_on='Country', right_on='Country')\n",
        "\n",
        "#Merging to incorporate the third data set\n",
        "  Final_merged_data = pd.merge(merge1, gdp_years, how='inner', on='Country')\n",
        "\n",
        "#Setting country as Index\n",
        "  Final_merged_data.set_index('Country', inplace=True)\n",
        "\n",
        "#Sorting by rank\n",
        "  Final_merged_data.sort_values('Rank', inplace=True)\n",
        "\n",
        "#Ensuring correct column order\n",
        "  cols = ['Rank', 'Documents', 'Citable documents', 'Citations', 'Self-citations',\n",
        "            'Citations per document', 'H index', 'Energy Supply',\n",
        "            'Energy Supply per Capita', '% Renewable', '2006', '2007', '2008',\n",
        "            '2009', '2010', '2011', '2012', '2013', '2014', '2015']\n",
        "\n",
        "  Final_merged_data =  Final_merged_data[cols]\n",
        "\n",
        "  return Final_merged_data"
      ],
      "metadata": {
        "id": "I9SCESj1iB5x"
      },
      "execution_count": null,
      "outputs": []
    },
    {
      "cell_type": "code",
      "source": [
        "Complete_merged_data = merge_data()\n",
        "print(Complete_merged_data.head())\n"
      ],
      "metadata": {
        "colab": {
          "base_uri": "https://localhost:8080/"
        },
        "id": "E6NbF8z-3c9s",
        "outputId": "9e48fe12-7979-486c-8769-67974b649c06"
      },
      "execution_count": null,
      "outputs": [
        {
          "output_type": "stream",
          "name": "stdout",
          "text": [
            "                    Rank  Documents  Citable documents  Citations  \\\n",
            "Country                                                             \n",
            "China                  1     127050             126767     597237   \n",
            "United States          2      96661              94747     792274   \n",
            "Japan                  3      30504              30287     223024   \n",
            "United Kingdom         4      20944              20357     206091   \n",
            "Russian Federation     5      18534              18301      34266   \n",
            "\n",
            "                    Self-citations  Citations per document  H index  \\\n",
            "Country                                                               \n",
            "China                       411683                    4.70      138   \n",
            "United States               265436                    8.20      230   \n",
            "Japan                        61554                    7.31      134   \n",
            "United Kingdom               37874                    9.84      139   \n",
            "Russian Federation           12422                    1.85       57   \n",
            "\n",
            "                    Energy Supply  Energy Supply per Capita  % Renewable  \\\n",
            "Country                                                                    \n",
            "China                1.271910e+11                      93.0     19.75491   \n",
            "United States        9.083800e+10                     286.0     11.57098   \n",
            "Japan                1.898400e+10                     149.0     10.23282   \n",
            "United Kingdom       7.920000e+09                     124.0     10.60047   \n",
            "Russian Federation   3.070900e+10                     214.0     17.28868   \n",
            "\n",
            "                            2006          2007          2008          2009  \\\n",
            "Country                                                                      \n",
            "China               3.992331e+12  4.559041e+12  4.997775e+12  5.459247e+12   \n",
            "United States       1.479230e+13  1.505540e+13  1.501149e+13  1.459484e+13   \n",
            "Japan               5.496542e+12  5.617036e+12  5.558527e+12  5.251308e+12   \n",
            "United Kingdom      2.419631e+12  2.482203e+12  2.470614e+12  2.367048e+12   \n",
            "Russian Federation  1.385793e+12  1.504071e+12  1.583004e+12  1.459199e+12   \n",
            "\n",
            "                            2010          2011          2012          2013  \\\n",
            "Country                                                                      \n",
            "China               6.039659e+12  6.612490e+12  7.124978e+12  7.672448e+12   \n",
            "United States       1.496437e+13  1.520402e+13  1.554216e+13  1.577367e+13   \n",
            "Japan               5.498718e+12  5.473738e+12  5.569102e+12  5.644659e+12   \n",
            "United Kingdom      2.403504e+12  2.450911e+12  2.479809e+12  2.533370e+12   \n",
            "Russian Federation  1.524917e+12  1.589943e+12  1.645876e+12  1.666934e+12   \n",
            "\n",
            "                            2014          2015  \n",
            "Country                                         \n",
            "China               8.230121e+12  8.797999e+12  \n",
            "United States       1.615662e+13  1.654857e+13  \n",
            "Japan               5.642884e+12  5.669563e+12  \n",
            "United Kingdom      2.605643e+12  2.666333e+12  \n",
            "Russian Federation  1.678709e+12  1.616149e+12  \n"
          ]
        }
      ]
    },
    {
      "cell_type": "markdown",
      "source": [],
      "metadata": {
        "id": "PGVQbHwcd6PP"
      }
    }
  ]
}